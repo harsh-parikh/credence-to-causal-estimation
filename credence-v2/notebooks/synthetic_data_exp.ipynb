{
 "cells": [
  {
   "cell_type": "code",
   "execution_count": 1,
   "id": "18413a90-4e24-4c10-a22c-105c4cca7f02",
   "metadata": {},
   "outputs": [],
   "source": [
    "import numpy as np\n",
    "import pandas as pd\n",
    "import matplotlib.pyplot as plt\n",
    "import seaborn as sns\n",
    "import torch\n",
    "from torch import nn\n",
    "from torch.nn import functional as F\n",
    "from torch.utils.data import TensorDataset\n",
    "from torch.utils.data import DataLoader\n",
    "from torch.utils.data import random_split\n",
    "import pytorch_lightning as pl\n",
    "import tqdm\n",
    "sns.set()\n",
    "import os\n",
    "os.chdir('/Users/harshparikh/Documents/GitHub/credence-to-causal-estimation/credence-v2/src/')\n",
    "import credence\n",
    "import autoencoder\n",
    "import importlib\n",
    "importlib.reload(autoencoder)\n",
    "importlib.reload(credence)\n",
    "os.chdir('/Users/harshparikh/Documents/GitHub/credence-to-causal-estimation/credence-v2/notebooks/')"
   ]
  },
  {
   "cell_type": "markdown",
   "id": "9f513043-5006-4bd0-bde1-289e418e8850",
   "metadata": {},
   "source": [
    "# DGP1"
   ]
  },
  {
   "cell_type": "code",
   "execution_count": null,
   "id": "92efcc49-1a2c-4629-ba74-28906512b913",
   "metadata": {},
   "outputs": [],
   "source": [
    "def dgp1(n=1000,p=10):\n",
    "    X = np.random.normal(0,1,size=(n,p))"
   ]
  }
 ],
 "metadata": {
  "kernelspec": {
   "display_name": "Python 3",
   "language": "python",
   "name": "python3"
  },
  "language_info": {
   "codemirror_mode": {
    "name": "ipython",
    "version": 3
   },
   "file_extension": ".py",
   "mimetype": "text/x-python",
   "name": "python",
   "nbconvert_exporter": "python",
   "pygments_lexer": "ipython3",
   "version": "3.8.5"
  }
 },
 "nbformat": 4,
 "nbformat_minor": 5
}
